{
 "cells": [
  {
   "cell_type": "markdown",
   "metadata": {
    "collapsed": true,
    "pycharm": {}
   },
   "source": [
    "# Modelo de predicción de impago de usuarios de tarjeta de  credito\n",
    "## Resumen\n",
    "El princpial objetivo de este proyecto es implementar algoritmos de inteligencia artificial para la predicción del posible impago en la próxima cuota de la tarjeta de crédito, basandose en diferentes factores, tales como: edad, nivel educativo, sexo, cupo de la tarjeta y pago realizados en los meses anteriores.\n",
    "Para la realización de este proyecto, se tomó la información de 30000 personas y el análisis se va a llevar a cabo en el lenguaje de programación Python."
   ]
  },
  {
   "cell_type": "markdown",
   "metadata": {
    "pycharm": {}
   },
   "source": [
    "## Fuente de los datos\n",
    "La información fue obtenida de la base de datos de la Universidad de California a través de la siguiente dirección: https://archive.ics.uci.edu/ml/datasets/default+of+credit+card+clients"
   ]
  },
  {
   "cell_type": "markdown",
   "metadata": {
    "pycharm": {}
   },
   "source": [
    "## Importación de los paquetes"
   ]
  },
  {
   "cell_type": "code",
   "execution_count": 2,
   "metadata": {
    "pycharm": {
     "is_executing": false
    }
   },
   "outputs": [],
   "source": [
    "import pandas as pd\n",
    "import numpy as np\n",
    "import matplotlib.pyplot as plt\n",
    "%matplotlib inline\n",
    "import seaborn as sns\n",
    "from sklearn.model_selection import train_test_split\n",
    "from sklearn.feature_selection import RFE\n",
    "from sklearn.linear_model import LogisticRegression\n",
    "import tensorflow as tf\n",
    "import os\n",
    "from sklearn.preprocessing import normalize, Normalizer\n",
    "from sklearn.ensemble import RandomForestClassifier\n",
    "from sklearn.metrics import roc_auc_score\n",
    "import logging\n",
    "import warnings  \n"
   ]
  },
  {
   "cell_type": "markdown",
   "metadata": {
    "pycharm": {}
   },
   "source": [
    "## Carga de la información\n",
    "Para la importación del Dataset se usa la libreria Pandas"
   ]
  },
  {
   "cell_type": "code",
   "execution_count": 3,
   "metadata": {
    "pycharm": {}
   },
   "outputs": [],
   "source": [
    "url=\"https://archive.ics.uci.edu/ml/machine-learning-databases/00350/default%20of%20credit%20card%20clients.xls\"\n",
    "datos=pd.read_excel(url) # Leer desde la URL\n",
    "datos.columns=list(datos.loc[0])\n",
    "datos=datos.drop(0,axis=0)\n"
   ]
  },
  {
   "cell_type": "code",
   "execution_count": 4,
   "metadata": {
    "pycharm": {},
    "scrolled": true
   },
   "outputs": [
    {
     "data": {
      "text/html": [
       "<div>\n",
       "<style scoped>\n",
       "    .dataframe tbody tr th:only-of-type {\n",
       "        vertical-align: middle;\n",
       "    }\n",
       "\n",
       "    .dataframe tbody tr th {\n",
       "        vertical-align: top;\n",
       "    }\n",
       "\n",
       "    .dataframe thead th {\n",
       "        text-align: right;\n",
       "    }\n",
       "</style>\n",
       "<table border=\"1\" class=\"dataframe\">\n",
       "  <thead>\n",
       "    <tr style=\"text-align: right;\">\n",
       "      <th></th>\n",
       "      <th>ID</th>\n",
       "      <th>LIMIT_BAL</th>\n",
       "      <th>SEX</th>\n",
       "      <th>EDUCATION</th>\n",
       "      <th>MARRIAGE</th>\n",
       "      <th>AGE</th>\n",
       "      <th>PAY_0</th>\n",
       "      <th>PAY_2</th>\n",
       "      <th>PAY_3</th>\n",
       "      <th>PAY_4</th>\n",
       "      <th>...</th>\n",
       "      <th>BILL_AMT4</th>\n",
       "      <th>BILL_AMT5</th>\n",
       "      <th>BILL_AMT6</th>\n",
       "      <th>PAY_AMT1</th>\n",
       "      <th>PAY_AMT2</th>\n",
       "      <th>PAY_AMT3</th>\n",
       "      <th>PAY_AMT4</th>\n",
       "      <th>PAY_AMT5</th>\n",
       "      <th>PAY_AMT6</th>\n",
       "      <th>default payment next month</th>\n",
       "    </tr>\n",
       "  </thead>\n",
       "  <tbody>\n",
       "    <tr>\n",
       "      <th>count</th>\n",
       "      <td>30000</td>\n",
       "      <td>30000</td>\n",
       "      <td>30000</td>\n",
       "      <td>30000</td>\n",
       "      <td>30000</td>\n",
       "      <td>30000</td>\n",
       "      <td>30000</td>\n",
       "      <td>30000</td>\n",
       "      <td>30000</td>\n",
       "      <td>30000</td>\n",
       "      <td>...</td>\n",
       "      <td>30000</td>\n",
       "      <td>30000</td>\n",
       "      <td>30000</td>\n",
       "      <td>30000</td>\n",
       "      <td>30000</td>\n",
       "      <td>30000</td>\n",
       "      <td>30000</td>\n",
       "      <td>30000</td>\n",
       "      <td>30000</td>\n",
       "      <td>30000</td>\n",
       "    </tr>\n",
       "    <tr>\n",
       "      <th>unique</th>\n",
       "      <td>30000</td>\n",
       "      <td>81</td>\n",
       "      <td>2</td>\n",
       "      <td>7</td>\n",
       "      <td>4</td>\n",
       "      <td>56</td>\n",
       "      <td>11</td>\n",
       "      <td>11</td>\n",
       "      <td>11</td>\n",
       "      <td>11</td>\n",
       "      <td>...</td>\n",
       "      <td>21548</td>\n",
       "      <td>21010</td>\n",
       "      <td>20604</td>\n",
       "      <td>7943</td>\n",
       "      <td>7899</td>\n",
       "      <td>7518</td>\n",
       "      <td>6937</td>\n",
       "      <td>6897</td>\n",
       "      <td>6939</td>\n",
       "      <td>2</td>\n",
       "    </tr>\n",
       "    <tr>\n",
       "      <th>top</th>\n",
       "      <td>30000</td>\n",
       "      <td>50000</td>\n",
       "      <td>2</td>\n",
       "      <td>2</td>\n",
       "      <td>2</td>\n",
       "      <td>29</td>\n",
       "      <td>0</td>\n",
       "      <td>0</td>\n",
       "      <td>0</td>\n",
       "      <td>0</td>\n",
       "      <td>...</td>\n",
       "      <td>0</td>\n",
       "      <td>0</td>\n",
       "      <td>0</td>\n",
       "      <td>0</td>\n",
       "      <td>0</td>\n",
       "      <td>0</td>\n",
       "      <td>0</td>\n",
       "      <td>0</td>\n",
       "      <td>0</td>\n",
       "      <td>0</td>\n",
       "    </tr>\n",
       "    <tr>\n",
       "      <th>freq</th>\n",
       "      <td>1</td>\n",
       "      <td>3365</td>\n",
       "      <td>18112</td>\n",
       "      <td>14030</td>\n",
       "      <td>15964</td>\n",
       "      <td>1605</td>\n",
       "      <td>14737</td>\n",
       "      <td>15730</td>\n",
       "      <td>15764</td>\n",
       "      <td>16455</td>\n",
       "      <td>...</td>\n",
       "      <td>3195</td>\n",
       "      <td>3506</td>\n",
       "      <td>4020</td>\n",
       "      <td>5249</td>\n",
       "      <td>5396</td>\n",
       "      <td>5968</td>\n",
       "      <td>6408</td>\n",
       "      <td>6703</td>\n",
       "      <td>7173</td>\n",
       "      <td>23364</td>\n",
       "    </tr>\n",
       "  </tbody>\n",
       "</table>\n",
       "<p>4 rows × 25 columns</p>\n",
       "</div>"
      ],
      "text/plain": [
       "           ID  LIMIT_BAL    SEX  EDUCATION  MARRIAGE    AGE  PAY_0  PAY_2  \\\n",
       "count   30000      30000  30000      30000     30000  30000  30000  30000   \n",
       "unique  30000         81      2          7         4     56     11     11   \n",
       "top     30000      50000      2          2         2     29      0      0   \n",
       "freq        1       3365  18112      14030     15964   1605  14737  15730   \n",
       "\n",
       "        PAY_3  PAY_4  ...  BILL_AMT4  BILL_AMT5  BILL_AMT6  PAY_AMT1  \\\n",
       "count   30000  30000  ...      30000      30000      30000     30000   \n",
       "unique     11     11  ...      21548      21010      20604      7943   \n",
       "top         0      0  ...          0          0          0         0   \n",
       "freq    15764  16455  ...       3195       3506       4020      5249   \n",
       "\n",
       "        PAY_AMT2  PAY_AMT3  PAY_AMT4  PAY_AMT5  PAY_AMT6  \\\n",
       "count      30000     30000     30000     30000     30000   \n",
       "unique      7899      7518      6937      6897      6939   \n",
       "top            0         0         0         0         0   \n",
       "freq        5396      5968      6408      6703      7173   \n",
       "\n",
       "        default payment next month  \n",
       "count                        30000  \n",
       "unique                           2  \n",
       "top                              0  \n",
       "freq                         23364  \n",
       "\n",
       "[4 rows x 25 columns]"
      ]
     },
     "execution_count": 4,
     "metadata": {},
     "output_type": "execute_result"
    }
   ],
   "source": [
    "datos.describe()\n"
   ]
  },
  {
   "cell_type": "markdown",
   "metadata": {
    "pycharm": {}
   },
   "source": [
    "## Verificación de valores nulos\n",
    "Se busca el número de valores nulos o NaNs para su posterior eliminación o reemplazo dependiendo del porcentaje faltante"
   ]
  },
  {
   "cell_type": "code",
   "execution_count": 5,
   "metadata": {
    "pycharm": {}
   },
   "outputs": [
    {
     "data": {
      "text/plain": [
       "ID                            0\n",
       "LIMIT_BAL                     0\n",
       "SEX                           0\n",
       "EDUCATION                     0\n",
       "MARRIAGE                      0\n",
       "AGE                           0\n",
       "PAY_0                         0\n",
       "PAY_2                         0\n",
       "PAY_3                         0\n",
       "PAY_4                         0\n",
       "PAY_5                         0\n",
       "PAY_6                         0\n",
       "BILL_AMT1                     0\n",
       "BILL_AMT2                     0\n",
       "BILL_AMT3                     0\n",
       "BILL_AMT4                     0\n",
       "BILL_AMT5                     0\n",
       "BILL_AMT6                     0\n",
       "PAY_AMT1                      0\n",
       "PAY_AMT2                      0\n",
       "PAY_AMT3                      0\n",
       "PAY_AMT4                      0\n",
       "PAY_AMT5                      0\n",
       "PAY_AMT6                      0\n",
       "default payment next month    0\n",
       "dtype: int64"
      ]
     },
     "execution_count": 5,
     "metadata": {},
     "output_type": "execute_result"
    }
   ],
   "source": [
    "# Encuentra el número de valores nulos para cada columna\n",
    "datos.isnull().sum(axis=0) # No existen ningún valor nulo"
   ]
  },
  {
   "cell_type": "markdown",
   "metadata": {
    "pycharm": {}
   },
   "source": [
    "Para este dataset no se encuentra ningún valor nulo"
   ]
  },
  {
   "cell_type": "markdown",
   "metadata": {
    "pycharm": {}
   },
   "source": [
    "## Exploración de datos\n",
    "Se grafican ciertas variables para observar su comportamiento y detectar alguna anormalidad o tendencia. Para esto, se hace uso de las librerias Matplotlib y Seaborn."
   ]
  },
  {
   "cell_type": "markdown",
   "metadata": {
    "pycharm": {}
   },
   "source": [
    "### Gráfico del total de personas en diferentes categorias\n",
    "Se va a mostrar el total de clientes categorizados de diferentes formas, por ejemplo, edad y estado civil. Se van a diferenciar las personas que cumplieron  con su pago (azul), de las que no (naranja)."
   ]
  },
  {
   "cell_type": "code",
   "execution_count": 6,
   "metadata": {
    "pycharm": {}
   },
   "outputs": [
    {
     "data": {
      "text/plain": [
       "<matplotlib.legend.Legend at 0x241a678d320>"
      ]
     },
     "execution_count": 6,
     "metadata": {},
     "output_type": "execute_result"
    },
    {
     "data": {
      "image/png": "[encoded data removed]",
      "text/plain": [
       "<Figure size 1152x576 with 4 Axes>"
      ]
     },
     "metadata": {
      "needs_background": "light"
     },
     "output_type": "display_data"
    }
   ],
   "source": [
    "\n",
    "fig, ((ax1, ax2), (ax3, ax4)) = plt.subplots(2, 2,figsize=[16,8])\n",
    "fig.subplots_adjust(left=None, bottom=None, right=None, top=None, wspace=None, hspace=0.5)\n",
    "\n",
    "# Gráfico por edades con el total de las personas. Se diferencia el número de personas que han pagado y las que no\n",
    "bins=pd.cut(datos[\"AGE\"],[20,30,40,50,60,70,80])\n",
    "age_count=datos.groupby(bins)[\"default payment next month\"].agg([\"count\",\"sum\"])\n",
    "age_count[\"count\"]=age_count[\"count\"]-age_count[\"sum\"]\n",
    "ax=age_count.plot.bar(stacked=True,ax=ax1)\n",
    "ax.legend([\"Cumplió\",\"No Cumplió\"])\n",
    "\n",
    "# Gráfico en función del estado civil con el total de las personas. Se diferencia el número de personas que han pagado y las que no\n",
    "marriage_count=datos.groupby([\"MARRIAGE\"])[\"default payment next month\"].agg([\"count\",\"sum\"])\n",
    "marriage_count[\"count\"]=marriage_count[\"count\"]-marriage_count[\"sum\"]\n",
    "ax1=marriage_count.plot.bar(stacked=True,ax=ax2)\n",
    "ax1.legend([\"Cumplió\",\"No Cumplió\"])\n",
    "ax1.set_xticklabels([\"??\",\"Casado\",\"Soltero\",\"Otro\"])\n",
    "\n",
    "# Gráfico en función del nivel de educación con el total de las personas.\n",
    "gender_education=datos.groupby([\"EDUCATION\"])[\"default payment next month\"].agg([\"count\",\"sum\"])\n",
    "gender_education[\"count\"]=gender_education[\"count\"]-gender_education[\"sum\"]\n",
    "ax2=gender_education.plot.bar(stacked=True,ax=ax3)\n",
    "ax2.legend([\"0\",\"1\"])\n",
    "ax2.set_xticklabels([\" \",\"graduate school\", \"university\", \"high school\", \"others\", \"unknown\", \"unknown\"])\n",
    "\n",
    "# Gráfico en función del cupo de la tarjeta con el total de las personas.\n",
    "max,min=[datos[\"LIMIT_BAL\"].max(),datos[\"LIMIT_BAL\"].min()]\n",
    "space=np.linspace(min,max,10)\n",
    "\n",
    "bins=pd.cut(datos[\"LIMIT_BAL\"],space)\n",
    "LIMIT_BAL=datos.groupby(bins)[\"default payment next month\"].agg([\"count\",\"sum\"])\n",
    "LIMIT_BAL[\"count\"]=LIMIT_BAL[\"count\"]-LIMIT_BAL[\"sum\"]\n",
    "ax3=LIMIT_BAL.plot.bar(stacked=True,ax=ax4)\n",
    "ax3.legend([\"0\",\"1\"])\n"
   ]
  },
  {
   "cell_type": "markdown",
   "metadata": {
    "pycharm": {}
   },
   "source": [
    "En el primer análisis exploratorio, se puede ver que existenn ciertas tendencias principalmente en la edad y en la capacidad de la tarjeta. Siendo la gente joven y las personas con menos cupos las que más incumplen con sus pagos.\n",
    "Por otro lado, se puede observar un valor que no corresponde a ningún grupo en la gráfica de matrimonio, estos valores serán reemplazados el más común dentro de esa columna. \n",
    "También es posible ver la existencia de distintas variables categoricas, por lo que es necesario la creación de variables dummies.\n"
   ]
  },
  {
   "cell_type": "markdown",
   "metadata": {
    "pycharm": {}
   },
   "source": [
    "### Correlación de variables\n",
    "Se va a graficar la correlación que existe entre en el valor de las facturas de la tarjeta para distintos meses"
   ]
  },
  {
   "cell_type": "code",
   "execution_count": 7,
   "metadata": {
    "pycharm": {}
   },
   "outputs": [
    {
     "data": {
      "image/png": "[encoded data removed]",
      "text/plain": [
       "<Figure size 576x576 with 2 Axes>"
      ]
     },
     "metadata": {
      "needs_background": "light"
     },
     "output_type": "display_data"
    }
   ],
   "source": [
    "variables=[\"BILL_AMT1\",\"BILL_AMT2\",\"BILL_AMT3\",\"BILL_AMT4\",\"BILL_AMT5\",\"BILL_AMT6\"]\n",
    "plt.figure(figsize=(8,8))\n",
    "plt.title(\"Valor factura tarjeta de credito (Abril a Septiembre)\")\n",
    "datos[variables] = datos[variables].astype(float)\n",
    "correlation=datos[variables].corr()\n",
    "sns.heatmap(correlation,xticklabels=correlation.columns,yticklabels=correlation.columns,linewidths=.1,vmin=0, vmax=1,cmap=\"BuPu\")\n",
    "plt.show()\n",
    "\n",
    "\n",
    "\n"
   ]
  },
  {
   "cell_type": "markdown",
   "metadata": {
    "pycharm": {}
   },
   "source": [
    "Es posible observar que existe una correlación entre estas varibales, la cual decrece con la distancia entre meses. \n",
    "La menor correlación es entre los meses de Abril y Septiembre"
   ]
  },
  {
   "cell_type": "markdown",
   "metadata": {
    "pycharm": {}
   },
   "source": [
    "## Limpieza de datos\n",
    "Creación de variables dummies y eliminación o reemplazo de valores que no corresponden a ninguna variable"
   ]
  },
  {
   "cell_type": "code",
   "execution_count": 8,
   "metadata": {
    "pycharm": {}
   },
   "outputs": [],
   "source": [
    "datos[\"MARRIAGE\"]=datos[\"MARRIAGE\"].replace(0,2)  # Reemplazo los ceros por el valor más común\n",
    "\n",
    "# PASAR LAS VARIABLES CATEOGRICAS A DUMMIES\n",
    "datos=pd.get_dummies(datos,prefix=\"SEX\",columns=[\"SEX\"])\n",
    "DataFrame=pd.get_dummies(datos,prefix=\"MARRIAGE\",columns=[\"MARRIAGE\"])\n",
    "\n",
    "# ELIMINAMOS UNA DUMMY VARIABLE DE CADA CONJUNNTO\n",
    "DataFrame=DataFrame.drop(\"MARRIAGE_3\",axis=1)\n",
    "DataFrame=DataFrame.drop(\"SEX_2\",axis=1)\n",
    "\n",
    "# Eliminamos la variable ID del DataSet a estudiar, ya que no es relevante para la implementación del modelo y puede causar errores en los modelos de predicción\n",
    "DataFrame=DataFrame.drop(\"ID\",axis=1)\n",
    "\n",
    "# Creamos un array X, con las varibales predictoras y uno Y con la variable a predecir\n",
    "column_names=DataFrame.columns.values.tolist()\n",
    "Y=[\"default payment next month\"]\n",
    "X=[i for i in column_names if i not in Y ]\n"
   ]
  },
  {
   "cell_type": "markdown",
   "metadata": {
    "pycharm": {}
   },
   "source": [
    "## División de los datos entre entrenamiento y validación"
   ]
  },
  {
   "cell_type": "code",
   "execution_count": 9,
   "metadata": {
    "pycharm": {}
   },
   "outputs": [],
   "source": [
    "# Dividimos los datos con scikit learn, un 30% de los datos serán destinados a validación y un random state=0 para poder replicar resultados después \n",
    "X_train,X_test,Y_train,Y_test=train_test_split(DataFrame[X],DataFrame[\"default payment next month\"],test_size=0.3,random_state=0)\n"
   ]
  },
  {
   "cell_type": "markdown",
   "metadata": {
    "pycharm": {}
   },
   "source": [
    "## Escalado de variables\n",
    "Se hace un escalado de variables ya que existe una disperción muy grande entre los valores del dataset. "
   ]
  },
  {
   "cell_type": "code",
   "execution_count": 10,
   "metadata": {
    "pycharm": {}
   },
   "outputs": [],
   "source": [
    "\n",
    "scaler=Normalizer()\n",
    "X_train[X_train.columns]=scaler.fit_transform(X_train[X_train.columns])\n",
    "X_test[X_test.columns]=scaler.fit_transform(X_test[X_test.columns])\n"
   ]
  },
  {
   "cell_type": "markdown",
   "metadata": {
    "pycharm": {}
   },
   "source": [
    "# Modelos predictivos\n",
    "Para el análisis de este dataset se van a utilizar tres algotirmos, los cuales son:\n",
    "- Regresión Logística\n",
    "- Random Forest\n",
    "- Redes Neuronales"
   ]
  },
  {
   "cell_type": "markdown",
   "metadata": {
    "pycharm": {}
   },
   "source": [
    "## Regresión logística"
   ]
  },
  {
   "cell_type": "code",
   "execution_count": 11,
   "metadata": {
    "pycharm": {}
   },
   "outputs": [
    {
     "name": "stdout",
     "output_type": "stream",
     "text": [
      "Exactitud: 78.43333333333334 %\n"
     ]
    },
    {
     "data": {
      "image/png": "[encoded data removed]",
      "text/plain": [
       "<Figure size 360x360 with 2 Axes>"
      ]
     },
     "metadata": {
      "needs_background": "light"
     },
     "output_type": "display_data"
    }
   ],
   "source": [
    "# Selección de varibales\n",
    "# Se usa el módulo de ScikitLearn RFE Recursive Feature Elimination\n",
    "modelo=LogisticRegression(solver=\"liblinear\")\n",
    "rfe=RFE(modelo,int(X_train.shape[1]))\n",
    "Y_train=Y_train.astype(int)\n",
    "rfe=rfe.fit(X_train,Y_train)\n",
    "variables_to_use=rfe.support_\n",
    "rank_variables=rfe.ranking_  # Según el modelo todas las variables aportan información\n",
    "\n",
    "lm=modelo.fit(X_train,Y_train)\n",
    "prediccione=lm.predict(X_test)\n",
    "print(\"Exactitud:\",lm.score(X_test,Y_test.astype(int))*100,\"%\")  #  Exactitud del modelo con los datos de testing # Reaultado :0.7843333\n",
    "\n",
    "#Matriz de confusión\n",
    "\n",
    "cross=pd.crosstab(Y_test,prediccione,rownames=[\"Actual\"],colnames=[\"Predicción\"])\n",
    "fig, (ax1) = plt.subplots(ncols=1, figsize=(5,5))\n",
    "sns.heatmap(cross,xticklabels=['Cumplio', 'Falló en pago'],\n",
    "            yticklabels=['Cumplio', 'Falló en pago'],\n",
    "            annot=True,ax=ax1,\n",
    "            linewidths=.2,linecolor=\"black\", cmap=\"Blues\")\n",
    "plt.title(\"Matriz de confusión\", fontsize=14)\n",
    "plt.show()\n"
   ]
  },
  {
   "cell_type": "markdown",
   "metadata": {
    "pycharm": {}
   },
   "source": [
    "### Medida a través del área bajo la curva (AUC-ROC)"
   ]
  },
  {
   "cell_type": "code",
   "execution_count": 12,
   "metadata": {
    "pycharm": {}
   },
   "outputs": [
    {
     "data": {
      "text/plain": [
       "0.499929178470255"
      ]
     },
     "execution_count": 12,
     "metadata": {},
     "output_type": "execute_result"
    }
   ],
   "source": [
    "roc_auc_score(Y_test.astype(int), prediccione)"
   ]
  },
  {
   "cell_type": "markdown",
   "metadata": {
    "pycharm": {}
   },
   "source": [
    "## Random Forest"
   ]
  },
  {
   "cell_type": "code",
   "execution_count": 13,
   "metadata": {
    "pycharm": {}
   },
   "outputs": [
    {
     "data": {
      "image/png": "[encoded data removed]",
      "text/plain": [
       "<Figure size 432x288 with 1 Axes>"
      ]
     },
     "metadata": {
      "needs_background": "light"
     },
     "output_type": "display_data"
    }
   ],
   "source": [
    "# Para esto, importamos de ScikitLearn la función RandomForestClssifier\n",
    "Pred=[]\n",
    "i=0\n",
    "vec=np.linspace(10,200,20)\n",
    "for n_estimators in vec:  # Loop para encontrar el número óptimo de árboles en el forest\n",
    "    i+=1\n",
    "    RF=RandomForestClassifier(n_estimators=int(n_estimators),random_state=0) \n",
    "    RF.fit(X_train,Y_train)\n",
    "\n",
    "    # Predicciones con Random forest\n",
    "\n",
    "    predicciones=RF.predict(X_test)\n",
    "    # Exactitud del modelo\n",
    "    Exac=RF.score(X_test,Y_test.astype(int))\n",
    "    Pred.append(Exac)\n",
    "\n",
    "plt.plot(vec,Pred)\n",
    "plt.title(\"Número de estimadores vs Exactitud\")\n",
    "plt.show()"
   ]
  },
  {
   "cell_type": "markdown",
   "metadata": {
    "pycharm": {}
   },
   "source": [
    "Se hace uso de un loop con el fin de encontrar el número óptimo de estimadores, y lograr una mejor eficiencia en terminos computacionales y una exactitud aceptable. Es posible observar que déspues de 50 estimadores(árboles) la exactitud tiende a estabilizarse, por lo que el número de estimadores seleccionado es de 50."
   ]
  },
  {
   "cell_type": "markdown",
   "metadata": {
    "pycharm": {}
   },
   "source": [
    "### Matriz de confusión"
   ]
  },
  {
   "cell_type": "code",
   "execution_count": 14,
   "metadata": {
    "pycharm": {}
   },
   "outputs": [
    {
     "data": {
      "image/png": "[encoded data removed]",
      "text/plain": [
       "<Figure size 360x360 with 2 Axes>"
      ]
     },
     "metadata": {
      "needs_background": "light"
     },
     "output_type": "display_data"
    }
   ],
   "source": [
    "cross=pd.crosstab(Y_test,predicciones,rownames=[\"Actual\"],colnames=[\"Predicción\"])\n",
    "fig, (ax1) = plt.subplots(ncols=1, figsize=(5,5))\n",
    "sns.heatmap(cross,xticklabels=['Cumplio', 'Falló en pago'],\n",
    "            yticklabels=['Cumplio', 'Falló en pago'],\n",
    "            annot=True,ax=ax1,\n",
    "            linewidths=.2,linecolor=\"Darkblue\", cmap=\"BuGn_r\")\n",
    "plt.title(\"Matriz de confusión\", fontsize=14)\n",
    "plt.show()\n"
   ]
  },
  {
   "cell_type": "markdown",
   "metadata": {
    "pycharm": {}
   },
   "source": [
    "### Medida a través del área bajo la curva (AUC-ROC)"
   ]
  },
  {
   "cell_type": "code",
   "execution_count": 15,
   "metadata": {
    "pycharm": {}
   },
   "outputs": [
    {
     "data": {
      "text/plain": [
       "0.6543858240121492"
      ]
     },
     "execution_count": 15,
     "metadata": {},
     "output_type": "execute_result"
    }
   ],
   "source": [
    "roc_auc_score(Y_test.astype(int), predicciones)"
   ]
  },
  {
   "cell_type": "markdown",
   "metadata": {
    "pycharm": {}
   },
   "source": [
    "El AUC-ROC para Random Forest es de 0.65"
   ]
  },
  {
   "cell_type": "markdown",
   "metadata": {
    "pycharm": {}
   },
   "source": [
    "## Redes Neuronales\n",
    "Se va a utilizar Redes Neuronales densas o totalmente conectadas"
   ]
  },
  {
   "cell_type": "code",
   "execution_count": 16,
   "metadata": {
    "collapsed": true,
    "pycharm": {}
   },
   "outputs": [
    {
     "name": "stdout",
     "output_type": "stream",
     "text": [
      "INFO:tensorflow:Using default config.\n",
      "WARNING:tensorflow:Using temporary folder as model directory: C:\\Users\\X510UA\\AppData\\Local\\Temp\\tmph35asfb0\n",
      "INFO:tensorflow:Using config: {'_model_dir': 'C:\\\\Users\\\\X510UA\\\\AppData\\\\Local\\\\Temp\\\\tmph35asfb0', '_tf_random_seed': None, '_save_summary_steps': 100, '_save_checkpoints_steps': None, '_save_checkpoints_secs': 600, '_session_config': allow_soft_placement: true\n",
      "graph_options {\n",
      "  rewrite_options {\n",
      "    meta_optimizer_iterations: ONE\n",
      "  }\n",
      "}\n",
      ", '_keep_checkpoint_max': 5, '_keep_checkpoint_every_n_hours': 10000, '_log_step_count_steps': 100, '_train_distribute': None, '_device_fn': None, '_protocol': None, '_eval_distribute': None, '_experimental_distribute': None, '_service': None, '_cluster_spec': <tensorflow.python.training.server_lib.ClusterSpec object at 0x00000241A8A34668>, '_task_type': 'worker', '_task_id': 0, '_global_id_in_cluster': 0, '_master': '', '_evaluation_master': '', '_is_chief': True, '_num_ps_replicas': 0, '_num_worker_replicas': 1}\n",
      "WARNING:tensorflow:From c:\\users\\x510ua\\documents\\github\\neural networks\\venv\\lib\\site-packages\\tensorflow\\python\\framework\\op_def_library.py:263: colocate_with (from tensorflow.python.framework.ops) is deprecated and will be removed in a future version.\n",
      "Instructions for updating:\n",
      "Colocations handled automatically by placer.\n",
      "WARNING:tensorflow:From c:\\users\\x510ua\\documents\\github\\neural networks\\venv\\lib\\site-packages\\tensorflow_estimator\\python\\estimator\\inputs\\queues\\feeding_queue_runner.py:62: QueueRunner.__init__ (from tensorflow.python.training.queue_runner_impl) is deprecated and will be removed in a future version.\n",
      "Instructions for updating:\n",
      "To construct input pipelines, use the `tf.data` module.\n",
      "WARNING:tensorflow:From c:\\users\\x510ua\\documents\\github\\neural networks\\venv\\lib\\site-packages\\tensorflow_estimator\\python\\estimator\\inputs\\queues\\feeding_functions.py:500: add_queue_runner (from tensorflow.python.training.queue_runner_impl) is deprecated and will be removed in a future version.\n",
      "Instructions for updating:\n",
      "To construct input pipelines, use the `tf.data` module.\n",
      "INFO:tensorflow:Calling model_fn.\n",
      "WARNING:tensorflow:From c:\\users\\x510ua\\documents\\github\\neural networks\\venv\\lib\\site-packages\\tensorflow\\python\\feature_column\\feature_column_v2.py:2703: to_float (from tensorflow.python.ops.math_ops) is deprecated and will be removed in a future version.\n",
      "Instructions for updating:\n",
      "Use tf.cast instead.\n",
      "INFO:tensorflow:Done calling model_fn.\n",
      "INFO:tensorflow:Create CheckpointSaverHook.\n",
      "INFO:tensorflow:Graph was finalized.\n",
      "INFO:tensorflow:Running local_init_op.\n",
      "INFO:tensorflow:Done running local_init_op.\n",
      "WARNING:tensorflow:From c:\\users\\x510ua\\documents\\github\\neural networks\\venv\\lib\\site-packages\\tensorflow\\python\\training\\monitored_session.py:809: start_queue_runners (from tensorflow.python.training.queue_runner_impl) is deprecated and will be removed in a future version.\n",
      "Instructions for updating:\n",
      "To construct input pipelines, use the `tf.data` module.\n",
      "INFO:tensorflow:Saving checkpoints for 0 into C:\\Users\\X510UA\\AppData\\Local\\Temp\\tmph35asfb0\\model.ckpt.\n",
      "INFO:tensorflow:loss = 66.55386, step = 1\n",
      "INFO:tensorflow:global_step/sec: 149.871\n",
      "INFO:tensorflow:loss = 60.753967, step = 101 (0.669 sec)\n",
      "INFO:tensorflow:global_step/sec: 224.475\n",
      "INFO:tensorflow:loss = 44.707916, step = 201 (0.447 sec)\n",
      "INFO:tensorflow:global_step/sec: 226.337\n",
      "INFO:tensorflow:loss = 54.58523, step = 301 (0.439 sec)\n",
      "INFO:tensorflow:global_step/sec: 213.789\n",
      "INFO:tensorflow:loss = 63.15587, step = 401 (0.468 sec)\n",
      "INFO:tensorflow:global_step/sec: 233.723\n",
      "INFO:tensorflow:loss = 50.552223, step = 501 (0.431 sec)\n",
      "INFO:tensorflow:global_step/sec: 203.795\n",
      "INFO:tensorflow:loss = 52.17335, step = 601 (0.489 sec)\n",
      "INFO:tensorflow:global_step/sec: 190.985\n",
      "INFO:tensorflow:loss = 50.439716, step = 701 (0.524 sec)\n",
      "INFO:tensorflow:global_step/sec: 208.89\n",
      "INFO:tensorflow:loss = 54.194786, step = 801 (0.478 sec)\n",
      "INFO:tensorflow:global_step/sec: 219.885\n",
      "INFO:tensorflow:loss = 52.008236, step = 901 (0.455 sec)\n",
      "INFO:tensorflow:Saving checkpoints for 1000 into C:\\Users\\X510UA\\AppData\\Local\\Temp\\tmph35asfb0\\model.ckpt.\n",
      "INFO:tensorflow:Loss for final step: 53.014854.\n"
     ]
    }
   ],
   "source": [
    "num_features=int(X_train.shape[1])\n",
    "num_features=24\n",
    "num_labels=int(np.unique(Y_train).shape[0])\n",
    "num_labels=2\n",
    "# Se asignan como \"Features\" las siguientes varibales\n",
    "LIMIT_BAL = tf.feature_column.numeric_column('LIMIT_BAL')\n",
    "EDUCATION = tf.feature_column.numeric_column('EDUCATION')\n",
    "AGE = tf.feature_column.numeric_column('AGE')\n",
    "PAY_0 = tf.feature_column.numeric_column('PAY_0')\n",
    "PAY_2 = tf.feature_column.numeric_column('PAY_2')\n",
    "PAY_3 = tf.feature_column.numeric_column('PAY_3')\n",
    "PAY_4 = tf.feature_column.numeric_column('PAY_4')\n",
    "PAY_5 = tf.feature_column.numeric_column('PAY_5')\n",
    "PAY_6 = tf.feature_column.numeric_column('PAY_6')\n",
    "BILL_AMT1 = tf.feature_column.numeric_column('BILL_AMT1')\n",
    "BILL_AMT2 = tf.feature_column.numeric_column('BILL_AMT2')\n",
    "BILL_AMT3 = tf.feature_column.numeric_column('BILL_AMT3')\n",
    "BILL_AMT4 = tf.feature_column.numeric_column('BILL_AMT4')\n",
    "BILL_AMT5 = tf.feature_column.numeric_column('BILL_AMT5')\n",
    "BILL_AMT6 = tf.feature_column.numeric_column('BILL_AMT6')\n",
    "PAY_AMT1=tf.feature_column.numeric_column('PAY_AMT1')\n",
    "PAY_AMT2=tf.feature_column.numeric_column('PAY_AMT2')\n",
    "PAY_AMT3=tf.feature_column.numeric_column('PAY_AMT3')\n",
    "PAY_AMT4=tf.feature_column.numeric_column('PAY_AMT4')\n",
    "PAY_AMT5=tf.feature_column.numeric_column('PAY_AMT5')\n",
    "PAY_AMT6=tf.feature_column.numeric_column('PAY_AMT6')\n",
    "SEX_1=tf.feature_column.numeric_column('SEX_1')\n",
    "MARRIAGE_1=tf.feature_column.numeric_column('MARRIAGE_1')\n",
    "MARRIAGE_2=tf.feature_column.numeric_column('MARRIAGE_2')\n",
    "\n",
    "\n",
    "featuresColumns=[LIMIT_BAL,EDUCATION,AGE,PAY_0,PAY_2,PAY_3,PAY_4,PAY_5,PAY_6,BILL_AMT1,BILL_AMT2,BILL_AMT3,BILL_AMT4,BILL_AMT5,BILL_AMT6,PAY_AMT1,PAY_AMT2,PAY_AMT3,PAY_AMT4,PAY_AMT5,PAY_AMT6,SEX_1,MARRIAGE_1,MARRIAGE_2]\n",
    "\n",
    "# Para el entrenamiento de la Red Neuronal se van a utilizar los siguientes parámetros:\n",
    "    # Batch Size=100\n",
    "    # Epochs=1000\n",
    "    # Número de Neuronas: Primera Capa 512\n",
    "    #                     Segunda Capa 256\n",
    "    #                     Tercera Capa 128\n",
    "    #Learning rate=0.001\n",
    "# Estos valores se pueden modificar para buscar mejores resultados\n",
    "input_func=tf.estimator.inputs.pandas_input_fn(x=X_train,y=Y_train.astype(int),batch_size=100,num_epochs=1000,shuffle=True)\n",
    "\n",
    "DNNClassifier=tf.estimator.DNNClassifier(hidden_units=[512,256,128],\n",
    "                                         feature_columns=featuresColumns,\n",
    "                                         n_classes=2,\n",
    "                                         activation_fn=tf.nn.tanh,\n",
    "                                         optimizer=lambda :tf.train.AdamOptimizer(\n",
    "                                             learning_rate=0.001\n",
    "                                         )\n",
    "\n",
    "                                         )\n",
    "DNNClassifier.train(input_fn=input_func,steps=1000)\n",
    "\n",
    "funcion_evaluacion=tf.estimator.inputs.pandas_input_fn(x=X_test,y=Y_test.astype(int),batch_size=100,num_epochs=1,shuffle=True)\n",
    "#print(DNNClassifier.evaluate(funcion_evaluacion))\n"
   ]
  },
  {
   "cell_type": "markdown",
   "metadata": {
    "pycharm": {}
   },
   "source": [
    "{'accuracy': 0.78422225, 'accuracy_baseline': 0.78444445, 'auc': 0.63449854, 'auc_precision_recall': 0.29912734, 'average_loss': 0.5053663, 'label/mean': 0.21555555, 'loss': 50.536633, 'precision': 0.25, 'prediction/mean': 0.18882477, 'recall': 0.00051546394, 'global_step': 1000}"
   ]
  },
  {
   "cell_type": "markdown",
   "metadata": {
    "pycharm": {}
   },
   "source": [
    "### Matriz de confusión"
   ]
  },
  {
   "cell_type": "code",
   "execution_count": 20,
   "metadata": {
    "pycharm": {}
   },
   "outputs": [
    {
     "name": "stdout",
     "output_type": "stream",
     "text": [
      "INFO:tensorflow:Calling model_fn.\n",
      "INFO:tensorflow:Done calling model_fn.\n",
      "INFO:tensorflow:Graph was finalized.\n",
      "INFO:tensorflow:Restoring parameters from C:\\Users\\X510UA\\AppData\\Local\\Temp\\tmph35asfb0\\model.ckpt-1000\n",
      "INFO:tensorflow:Running local_init_op.\n",
      "INFO:tensorflow:Done running local_init_op.\n"
     ]
    },
    {
     "data": {
      "image/png": "[encoded data removed]",
      "text/plain": [
       "<Figure size 360x360 with 2 Axes>"
      ]
     },
     "metadata": {
      "needs_background": "light"
     },
     "output_type": "display_data"
    }
   ],
   "source": [
    "list_pred=[]\n",
    "predicciones_NN=DNNClassifier.predict(funcion_evaluacion);\n",
    "\n",
    "for i in predicciones_NN:\n",
    "    predicted_class = i['class_ids']\n",
    "    probability = i['probabilities']\n",
    "    val=probability.argmax()\n",
    "    list_pred.append(predicted_class)\n",
    "\n",
    "\n",
    "import seaborn as sns\n",
    "Predicciones_NN_array=np.array(list_pred).T.flatten()\n",
    "dd=pd.Series(list_pred)\n",
    "cross=pd.crosstab(Y_test,Predicciones_NN_array,rownames=[\"Actual\"],colnames=[\"Predicción\"])\n",
    "fig, (ax1) = plt.subplots(ncols=1, figsize=(5,5))\n",
    "sns.heatmap(cross,xticklabels=['Cumplió', 'Falló en pago'],\n",
    "            yticklabels=['Cumplió', 'Falló en pago'],\n",
    "            annot=True,ax=ax1,\n",
    "            linewidths=.2,linecolor=\"black\", cmap=\"Oranges\")\n",
    "plt.title(\"Matriz de confusión\", fontsize=14)\n",
    "plt.show()"
   ]
  },
  {
   "cell_type": "code",
   "execution_count": 19,
   "metadata": {
    "pycharm": {}
   },
   "outputs": [
    {
     "data": {
      "text/plain": [
       "0.49830904471247917"
      ]
     },
     "execution_count": 19,
     "metadata": {},
     "output_type": "execute_result"
    }
   ],
   "source": [
    "roc_auc_score(Y_test.astype(int), Predicciones_NN_array)"
   ]
  },
  {
   "cell_type": "markdown",
   "metadata": {
    "pycharm": {}
   },
   "source": [
    "# Conclusiones y observaciones relevantes\n",
    "- Las personas jovenes son las que más uso hacen de este tipo de productos y a su vez las que más incumplen con el pago\n",
    "- De igual manera, existe un mayor número de personas con un cupo bajo y estas son las que más incumplen con el pago en comparación con las personas de cupos mayores\n",
    "- Al momento de realizar el análisis predictivo, se encuentra que el algoritmo de Random Forest es el que mejor resultados presenta, con un valor de área de bajo la curva (ROC-AUC) mayor que el obtenido en la Regresión Logistica y en Redes Neuronales"
   ]
  },
  {
   "cell_type": "code",
   "execution_count": null,
   "metadata": {
    "pycharm": {}
   },
   "outputs": [],
   "source": []
  }
 ],
 "metadata": {
  "celltoolbar": "Raw Cell Format",
  "kernelspec": {
   "display_name": "Python 3",
   "language": "python",
   "name": "python3"
  },
  "language_info": {
   "codemirror_mode": {
    "name": "ipython",
    "version": 3
   },
   "file_extension": ".py",
   "mimetype": "text/x-python",
   "name": "python",
   "nbconvert_exporter": "python",
   "pygments_lexer": "ipython3",
   "version": "3.6.8"
  }
 },
 "nbformat": 4,
 "nbformat_minor": 1
}
